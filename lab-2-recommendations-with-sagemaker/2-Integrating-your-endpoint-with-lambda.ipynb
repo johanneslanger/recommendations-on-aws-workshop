{
 "cells": [
  {
   "cell_type": "markdown",
   "metadata": {},
   "source": [
    "# Integrating the Sagemaker endpoint into our movie recommender web application"
   ]
  },
  {
   "cell_type": "markdown",
   "metadata": {},
   "source": [
    "In its current form the K-NN model which we deployed in our previous lab to get recommended movies for a user works nicely from a Jupyter notebook. However it is hard to integrate into a business application. It requires a user embedding vector as input and returns a JSON output which is specific to our model (e.g. movie distances) and contains information which is not relevant to our application.\n",
    "\n",
    "In the next step we will write a simple lambda function which takes a user id as input and returns a simple list of recommended movies in JSON format. The lambda function will be responsible to transform the user id into a user embedding, invoke the sagemaker endpoint and return a simplified response containing only movie ids to the user. The lambda functions will be fronted by an API Gateway, to provide the REST endpoint. See following figure a simple architecture:"
   ]
  },
  {
   "cell_type": "markdown",
   "metadata": {},
   "source": [
    "![arch](images/architecture-lab2.png)"
   ]
  },
  {
   "cell_type": "markdown",
   "metadata": {},
   "source": [
    "Adding this integration layer creates a simple REST-API based contract between our business application and our machine learning backend functionality, which has following benefits:\n",
    "\n",
    "- It allows us to change the deployed machine learning model in the backend without requiring any code changes to our business application\n",
    "- Allows to easily split the work/responsibilities into separate teams (e.g. bussiness app development and data science team)"
   ]
  },
  {
   "cell_type": "markdown",
   "metadata": {},
   "source": [
    "# Developing and deploying the lambda function"
   ]
  },
  {
   "cell_type": "markdown",
   "metadata": {},
   "source": [
    "For deployment of the lambda function we will use the [serverless framework](https://serverless.com/). Let's start by installing the serverless framework and required dependencies."
   ]
  },
  {
   "cell_type": "code",
   "execution_count": null,
   "metadata": {},
   "outputs": [],
   "source": [
    "!npm install -g serverless serverless-iam-roles-per-function"
   ]
  },
  {
   "cell_type": "markdown",
   "metadata": {},
   "source": [
    "All required files for deployment are available in the integrationLambda folder. \n",
    "The file [serverless.yml](./integrationLambda/serverless.yml) contains all configuration required for deployment, e.g. lambda function properties, permissions or environment variables.\n",
    "The file [handler.py](./integrationLambda/handler.py) cotnains the code of the lambda function.\n",
    "\n",
    "Feel free to explore the code now in detail if you wish. "
   ]
  },
  {
   "cell_type": "markdown",
   "metadata": {},
   "source": [
    "Next we need to set a few environment variables, so the lambda knows which sagemaker endpoint to call and where user embeddings are stored.\n",
    "In serverless.yml update following two properties:\n",
    "\n",
    "```\n",
    "EMBEDDINGS_S3_PATH: <insert the path to the embeddings file show at the end of the previous lab notebook>\n",
    "SAGEMAKER_ENDPOINT_NAME: <insert the name of the sagemaker endpoint also shown at the end of the previous notebook>\n",
    "```\n",
    "\n",
    "here is an example:\n",
    "\n",
    "```\n",
    "EMBEDDINGS_S3_PATH: s3://sagemaker-assets-jlanger/fm/output/factorization-machines-2019-10-24-19-30-22-215/output/user_embeddings.pickle\n",
    "SAGEMAKER_ENDPOINT_NAME: knn-2019-10-24-19-35-08-799\n",
    "```"
   ]
  },
  {
   "cell_type": "markdown",
   "metadata": {},
   "source": [
    "Now let's go ahead and deploy the lambda function"
   ]
  },
  {
   "cell_type": "code",
   "execution_count": 5,
   "metadata": {},
   "outputs": [
    {
     "name": "stdout",
     "output_type": "stream",
     "text": [
      "Serverless: \u001b[33mPackaging service...\u001b[39m\n",
      "Serverless: \u001b[33mExcluding development dependencies...\u001b[39m\n",
      "Serverless: \u001b[33mUploading CloudFormation file to S3...\u001b[39m\n",
      "Serverless: \u001b[33mUploading artifacts...\u001b[39m\n",
      "Serverless: \u001b[33mUploading service recommendationendpointintegration.zip file to S3 (3.76 KB)...\u001b[39m\n",
      "Serverless: \u001b[33mValidating template...\u001b[39m\n",
      "Serverless: \u001b[33mUpdating Stack...\u001b[39m\n",
      "Serverless: \u001b[33mChecking Stack update progress...\u001b[39m\n",
      "\u001b[33m.\u001b[39m\u001b[33m.\u001b[39m\u001b[33m.\u001b[39m\u001b[33m.\u001b[39m\u001b[33m.\u001b[39m\u001b[33m.\u001b[39m\u001b[33m.\u001b[39m\u001b[33m.\u001b[39m\u001b[33m.\u001b[39m\u001b[33m.\u001b[39m\u001b[33m.\u001b[39m\u001b[33m.\u001b[39m\u001b[33m.\u001b[39m\u001b[33m.\u001b[39m\n",
      "Serverless: \u001b[33mStack update finished...\u001b[39m\n",
      "\u001b[33m\u001b[4mService Information\u001b[24m\u001b[39m\n",
      "\u001b[33mservice:\u001b[39m recommendationendpointintegration\n",
      "\u001b[33mstage:\u001b[39m dev\n",
      "\u001b[33mregion:\u001b[39m us-east-1\n",
      "\u001b[33mstack:\u001b[39m recommendationendpointintegration-dev\n",
      "\u001b[33mresources:\u001b[39m 11\n",
      "\u001b[33mapi keys:\u001b[39m\n",
      "  None\n",
      "\u001b[33mendpoints:\u001b[39m\n",
      "  GET - https://sbehr8v2h0.execute-api.us-east-1.amazonaws.com/dev/recommendEndpoint\n",
      "\u001b[33mfunctions:\u001b[39m\n",
      "  hello: recommendationendpointintegration-dev-hello\n",
      "\u001b[33mlayers:\u001b[39m\n",
      "  None\n",
      "Serverless: \u001b[33mRun the \"serverless\" command to setup monitoring, troubleshooting and testing.\u001b[39m\n"
     ]
    }
   ],
   "source": [
    "!cd integration_lambda; sls deploy"
   ]
  },
  {
   "cell_type": "markdown",
   "metadata": {},
   "source": [
    "## Validating the endpoint"
   ]
  },
  {
   "cell_type": "markdown",
   "metadata": {},
   "source": [
    "Now check that the endpoint returns valid results. You can find the url in the output of the last command under endpoints. Make sure to attach a URL parameter to pass in the requested user_id.\n",
    "The URL should have following format:\n",
    "\n",
    "https://\\<unique_id>.execute-api.us-east-1.amazonaws.com/dev/recommendEndpoint?user_id=\\<user_id>\n",
    "\n",
    "Here is an example:\n",
    "\n",
    "https://8c7g5h0jv7.execute-api.us-east-1.amazonaws.com/dev/recommendEndpoint?user_id=3\n",
    "\n"
   ]
  },
  {
   "cell_type": "markdown",
   "metadata": {},
   "source": [
    "The request should return a response similar to this (movie ID's can vary):\n",
    "\n",
    "```\n",
    "{\"itemList\": [{\"itemId\": \"494\"}, {\"itemId\": \"1656\"}, {\"itemId\": \"1125\"}, {\"itemId\": \"652\"}, {\"itemId\": \"814\"}, {\"itemId\": \"1130\"}, {\"itemId\": \"137\"}, {\"itemId\": \"1525\"}, {\"itemId\": \"851\"}, {\"itemId\": \"1467\"}, {\"itemId\": \"1235\"}, {\"itemId\": \"185\"}, {\"itemId\": \"64\"}, {\"itemId\": \"498\"}, {\"itemId\": \"191\"}, {\"itemId\": \"1599\"}, {\"itemId\": \"896\"}, {\"itemId\": \"168\"}, {\"itemId\": \"1604\"}, {\"itemId\": \"647\"}, {\"itemId\": \"1194\"}, {\"itemId\": \"198\"}, {\"itemId\": \"478\"}, {\"itemId\": \"1616\"}, {\"itemId\": \"1662\"}, {\"itemId\": \"709\"}, {\"itemId\": \"1536\"}, {\"itemId\": \"514\"}, {\"itemId\": \"1650\"}, {\"itemId\": \"223\"}, {\"itemId\": \"529\"}, ....]}\n",
    "```"
   ]
  },
  {
   "cell_type": "markdown",
   "metadata": {},
   "source": [
    "**Please note down the endpoint URL shown in the output from the sls deploy command. As we will need it later**\n",
    "\n",
    "e.g. https://sbehr8v2h0.execute-api.us-east-1.amazonaws.com/dev/recommendEndpoint"
   ]
  },
  {
   "cell_type": "markdown",
   "metadata": {},
   "source": [
    "__[now jump back into the original Lab Guidebook - Deploying the integration lambda](https://github.com/johanneslanger/recommendations-on-aws-workshop/tree/master/lab-2-recommendations-with-sagemaker#integration-the-endpoint-into-the-movie-recommender-app)__"
   ]
  }
 ],
 "metadata": {
  "kernelspec": {
   "display_name": "conda_python3",
   "language": "python",
   "name": "conda_python3"
  },
  "language_info": {
   "codemirror_mode": {
    "name": "ipython",
    "version": 3
   },
   "file_extension": ".py",
   "mimetype": "text/x-python",
   "name": "python",
   "nbconvert_exporter": "python",
   "pygments_lexer": "ipython3",
   "version": "3.6.5"
  }
 },
 "nbformat": 4,
 "nbformat_minor": 4
}
